{
 "cells": [
  {
   "metadata": {},
   "cell_type": "markdown",
   "source": [
    "# PROJECT 4.2 HEART DISEASE\n",
    "## `BEST MODEL SELECTION`"
   ],
   "id": "ba3e7bdb6ccd045f"
  },
  {
   "metadata": {},
   "cell_type": "markdown",
   "source": "This part is to apply two type of dataset (original + decisiontree and feature engineering + decisiontree) to different model for training. The final chosen model shall be tuned for best accuracy.",
   "id": "d5b295cae3fece98"
  },
  {
   "metadata": {},
   "cell_type": "markdown",
   "source": "## 1. LOAD DATA FROM DATASET",
   "id": "a0306ef2c5571065"
  },
  {
   "cell_type": "code",
   "id": "initial_id",
   "metadata": {
    "collapsed": true,
    "ExecuteTime": {
     "end_time": "2025-10-12T15:44:33.689618Z",
     "start_time": "2025-10-12T15:44:33.678324Z"
    }
   },
   "source": [
    "# import warnings\n",
    "# warnings.filterwarnings(\"ignore\")\n",
    "from sklearn.metrics import accuracy_score, classification_report\n",
    "\n",
    "from src.data.data_engineering import data_loader\n",
    "\n",
    "path = \"../dataset/\"\n",
    "X_odt_train, y_odt_train, X_odt_val, y_odt_val, X_odt_test, y_odt_test = data_loader(path, filenames=(\"topK_odt_train.csv\", \"topK_odt_val.csv\", \"topK_odt_test.csv\"))\n",
    "X_fe_dt_train, y_fe_dt_train, X_fe_dt_val, y_fe_dt_val, X_fe_dt_test, y_fe_dt_test = data_loader(path, filenames=(\"topK_fe_dt_train.csv\", \"topK_fe_dt_val.csv\", \"topK_fe_dt_test.csv\"))"
   ],
   "outputs": [
    {
     "name": "stdout",
     "output_type": "stream",
     "text": [
      "✅ Load data successfully\n",
      "✅ Load data successfully\n"
     ]
    }
   ],
   "execution_count": 37
  },
  {
   "metadata": {
    "ExecuteTime": {
     "end_time": "2025-10-12T15:44:33.740037Z",
     "start_time": "2025-10-12T15:44:33.731967Z"
    }
   },
   "cell_type": "code",
   "source": [
    "# check & verify randomly the function\n",
    "X_odt_train.head(10)"
   ],
   "id": "be5918a77291a9de",
   "outputs": [
    {
     "data": {
      "text/plain": [
       "   trestbps  thal      chol   thalach       age        ca   oldpeak        cp  \\\n",
       "0  1.020911   1.0  0.169014  0.307680  0.594945  0.666667  1.320132  1.000000   \n",
       "1  0.463338   0.0  1.327117  1.411752 -1.711319  0.000000 -0.900796  0.666667   \n",
       "2  0.017280   0.0  0.720492  0.396006 -0.063987  0.333333 -0.900796  0.333333   \n",
       "3 -0.094234   1.0 -0.511143  0.572657  0.155657  0.000000 -0.900796  0.333333   \n",
       "4 -0.373021   1.0  0.095483  0.572657  1.363700  0.666667 -0.729955  1.000000   \n",
       "5 -0.094234   0.0  0.242544  0.219354  0.045835  0.000000 -0.900796  0.333333   \n",
       "6 -0.094234   0.0  0.077101  1.279263 -0.832742  0.000000 -0.900796  0.666667   \n",
       "7 -0.373021   1.0  0.169014 -0.398926  0.594945  0.333333  1.490973  1.000000   \n",
       "8 -1.766952   0.0 -0.014812 -1.238020  0.375301  0.000000 -0.046593  1.000000   \n",
       "9  2.136056   1.0  1.419030 -0.443089  0.485123  0.000000  2.003495  1.000000   \n",
       "\n",
       "   sex  fbs  \n",
       "0  0.0  0.0  \n",
       "1  1.0  0.0  \n",
       "2  0.0  1.0  \n",
       "3  1.0  0.0  \n",
       "4  1.0  1.0  \n",
       "5  1.0  0.0  \n",
       "6  1.0  0.0  \n",
       "7  1.0  0.0  \n",
       "8  0.0  0.0  \n",
       "9  1.0  0.0  "
      ],
      "text/html": [
       "<div>\n",
       "<style scoped>\n",
       "    .dataframe tbody tr th:only-of-type {\n",
       "        vertical-align: middle;\n",
       "    }\n",
       "\n",
       "    .dataframe tbody tr th {\n",
       "        vertical-align: top;\n",
       "    }\n",
       "\n",
       "    .dataframe thead th {\n",
       "        text-align: right;\n",
       "    }\n",
       "</style>\n",
       "<table border=\"1\" class=\"dataframe\">\n",
       "  <thead>\n",
       "    <tr style=\"text-align: right;\">\n",
       "      <th></th>\n",
       "      <th>trestbps</th>\n",
       "      <th>thal</th>\n",
       "      <th>chol</th>\n",
       "      <th>thalach</th>\n",
       "      <th>age</th>\n",
       "      <th>ca</th>\n",
       "      <th>oldpeak</th>\n",
       "      <th>cp</th>\n",
       "      <th>sex</th>\n",
       "      <th>fbs</th>\n",
       "    </tr>\n",
       "  </thead>\n",
       "  <tbody>\n",
       "    <tr>\n",
       "      <th>0</th>\n",
       "      <td>1.020911</td>\n",
       "      <td>1.0</td>\n",
       "      <td>0.169014</td>\n",
       "      <td>0.307680</td>\n",
       "      <td>0.594945</td>\n",
       "      <td>0.666667</td>\n",
       "      <td>1.320132</td>\n",
       "      <td>1.000000</td>\n",
       "      <td>0.0</td>\n",
       "      <td>0.0</td>\n",
       "    </tr>\n",
       "    <tr>\n",
       "      <th>1</th>\n",
       "      <td>0.463338</td>\n",
       "      <td>0.0</td>\n",
       "      <td>1.327117</td>\n",
       "      <td>1.411752</td>\n",
       "      <td>-1.711319</td>\n",
       "      <td>0.000000</td>\n",
       "      <td>-0.900796</td>\n",
       "      <td>0.666667</td>\n",
       "      <td>1.0</td>\n",
       "      <td>0.0</td>\n",
       "    </tr>\n",
       "    <tr>\n",
       "      <th>2</th>\n",
       "      <td>0.017280</td>\n",
       "      <td>0.0</td>\n",
       "      <td>0.720492</td>\n",
       "      <td>0.396006</td>\n",
       "      <td>-0.063987</td>\n",
       "      <td>0.333333</td>\n",
       "      <td>-0.900796</td>\n",
       "      <td>0.333333</td>\n",
       "      <td>0.0</td>\n",
       "      <td>1.0</td>\n",
       "    </tr>\n",
       "    <tr>\n",
       "      <th>3</th>\n",
       "      <td>-0.094234</td>\n",
       "      <td>1.0</td>\n",
       "      <td>-0.511143</td>\n",
       "      <td>0.572657</td>\n",
       "      <td>0.155657</td>\n",
       "      <td>0.000000</td>\n",
       "      <td>-0.900796</td>\n",
       "      <td>0.333333</td>\n",
       "      <td>1.0</td>\n",
       "      <td>0.0</td>\n",
       "    </tr>\n",
       "    <tr>\n",
       "      <th>4</th>\n",
       "      <td>-0.373021</td>\n",
       "      <td>1.0</td>\n",
       "      <td>0.095483</td>\n",
       "      <td>0.572657</td>\n",
       "      <td>1.363700</td>\n",
       "      <td>0.666667</td>\n",
       "      <td>-0.729955</td>\n",
       "      <td>1.000000</td>\n",
       "      <td>1.0</td>\n",
       "      <td>1.0</td>\n",
       "    </tr>\n",
       "    <tr>\n",
       "      <th>5</th>\n",
       "      <td>-0.094234</td>\n",
       "      <td>0.0</td>\n",
       "      <td>0.242544</td>\n",
       "      <td>0.219354</td>\n",
       "      <td>0.045835</td>\n",
       "      <td>0.000000</td>\n",
       "      <td>-0.900796</td>\n",
       "      <td>0.333333</td>\n",
       "      <td>1.0</td>\n",
       "      <td>0.0</td>\n",
       "    </tr>\n",
       "    <tr>\n",
       "      <th>6</th>\n",
       "      <td>-0.094234</td>\n",
       "      <td>0.0</td>\n",
       "      <td>0.077101</td>\n",
       "      <td>1.279263</td>\n",
       "      <td>-0.832742</td>\n",
       "      <td>0.000000</td>\n",
       "      <td>-0.900796</td>\n",
       "      <td>0.666667</td>\n",
       "      <td>1.0</td>\n",
       "      <td>0.0</td>\n",
       "    </tr>\n",
       "    <tr>\n",
       "      <th>7</th>\n",
       "      <td>-0.373021</td>\n",
       "      <td>1.0</td>\n",
       "      <td>0.169014</td>\n",
       "      <td>-0.398926</td>\n",
       "      <td>0.594945</td>\n",
       "      <td>0.333333</td>\n",
       "      <td>1.490973</td>\n",
       "      <td>1.000000</td>\n",
       "      <td>1.0</td>\n",
       "      <td>0.0</td>\n",
       "    </tr>\n",
       "    <tr>\n",
       "      <th>8</th>\n",
       "      <td>-1.766952</td>\n",
       "      <td>0.0</td>\n",
       "      <td>-0.014812</td>\n",
       "      <td>-1.238020</td>\n",
       "      <td>0.375301</td>\n",
       "      <td>0.000000</td>\n",
       "      <td>-0.046593</td>\n",
       "      <td>1.000000</td>\n",
       "      <td>0.0</td>\n",
       "      <td>0.0</td>\n",
       "    </tr>\n",
       "    <tr>\n",
       "      <th>9</th>\n",
       "      <td>2.136056</td>\n",
       "      <td>1.0</td>\n",
       "      <td>1.419030</td>\n",
       "      <td>-0.443089</td>\n",
       "      <td>0.485123</td>\n",
       "      <td>0.000000</td>\n",
       "      <td>2.003495</td>\n",
       "      <td>1.000000</td>\n",
       "      <td>1.0</td>\n",
       "      <td>0.0</td>\n",
       "    </tr>\n",
       "  </tbody>\n",
       "</table>\n",
       "</div>"
      ]
     },
     "execution_count": 38,
     "metadata": {},
     "output_type": "execute_result"
    }
   ],
   "execution_count": 38
  },
  {
   "metadata": {},
   "cell_type": "markdown",
   "source": "## 2. SETUP & TRAIN THE RANDOM FOREST FUNCTION",
   "id": "912f45e1f297952"
  },
  {
   "metadata": {
    "ExecuteTime": {
     "end_time": "2025-10-12T15:44:33.850877Z",
     "start_time": "2025-10-12T15:44:33.847991Z"
    }
   },
   "cell_type": "code",
   "source": [
    "from sklearn.model_selection import StratifiedKFold, cross_val_score\n",
    "from sklearn.ensemble import RandomForestClassifier\n",
    "import matplotlib.pyplot as plt\n",
    "import numpy as np\n",
    "import pandas as pd"
   ],
   "id": "ea57ed941abb03f6",
   "outputs": [],
   "execution_count": 39
  },
  {
   "metadata": {
    "ExecuteTime": {
     "end_time": "2025-10-12T15:44:33.955664Z",
     "start_time": "2025-10-12T15:44:33.951257Z"
    }
   },
   "cell_type": "code",
   "source": [
    "# Initial parameters at the first time of RF Classifier\n",
    "parameters = {\n",
    "        \"max_depth\": 5,\n",
    "        \"min_samples_split\": 2,\n",
    "        \"min_samples_leaf\": 1,\n",
    "        \"max_features\": \"sqrt\",\n",
    "        \"oob_score\": True,\n",
    "        \"random_state\": 42,\n",
    "    }\n",
    "# Build the function of find_optimum_parameters\n",
    "def find_optimum_rf(\n",
    "        X_train,\n",
    "        y_train,\n",
    "        n_estimators = range(50, 550, 50),\n",
    "        cv_splits = 5,\n",
    "        para_grid = parameters,\n",
    "):\n",
    "    \"\"\"\n",
    "    Function to return the best optimum parameters by using StratifiedKFold\n",
    "    :return: rf model, val_acc, {n_estimators: best_N}\n",
    "    \"\"\"\n",
    "    cv = StratifiedKFold(n_splits=cv_splits, shuffle=True, random_state=42)\n",
    "    scores = []\n",
    "    print(\"👉 Optimizing RF model...\")\n",
    "\n",
    "    for n_estimator in n_estimators:\n",
    "        rf = RandomForestClassifier(n_estimators=n_estimator, **para_grid)\n",
    "        cv_score = cross_val_score(rf, X_train, y_train, cv=cv_splits, scoring=\"accuracy\", n_jobs=-1)\n",
    "        print(f\"Iterator {n_estimator} give score: {cv_score}...\")\n",
    "        scores.append(cv_score.mean())\n",
    "\n",
    "    plt.figure(figsize=(10, 6))\n",
    "    plt.plot(list(n_estimators), scores, \"bo-\")\n",
    "    plt.title(f\"Optimum n_estimators for Random Forest (CV={cv_splits}-fold)\")\n",
    "    plt.xlabel(\"n_estimators\")\n",
    "    plt.ylabel(\"Cross-Validation Accuracy\")\n",
    "    plt.grid(True)\n",
    "\n",
    "    # Find the max value of score then the n_estimator shall be under this max score\n",
    "    best_N = list(n_estimators)[np.argmax(scores)]\n",
    "    print(f\"✅ Best n_estimators: {best_N}\")\n",
    "\n",
    "    optimum_rf = RandomForestClassifier(n_estimators=best_N, **para_grid)\n",
    "    optimum_rf.fit(X_train, y_train)\n",
    "\n",
    "    return optimum_rf, best_N, max(scores)"
   ],
   "id": "fa5b182e6777d208",
   "outputs": [],
   "execution_count": 40
  },
  {
   "metadata": {
    "ExecuteTime": {
     "end_time": "2025-10-12T15:44:34.002166Z",
     "start_time": "2025-10-12T15:44:34.000466Z"
    }
   },
   "cell_type": "code",
   "source": [
    "# function test the optimum model\n",
    "# _, best_N, max_score = find_optimum_rf(X_odt_train, y_odt_train)\n",
    "# print(best_N)"
   ],
   "id": "a1fc065027ccb4db",
   "outputs": [],
   "execution_count": 41
  },
  {
   "metadata": {},
   "cell_type": "markdown",
   "source": "Create the function and find the best accuracy of RF for data",
   "id": "1689f14e3beb835b"
  },
  {
   "metadata": {
    "ExecuteTime": {
     "end_time": "2025-10-12T15:44:34.049534Z",
     "start_time": "2025-10-12T15:44:34.046073Z"
    }
   },
   "cell_type": "code",
   "source": [
    "def evaluate_val_rf(\n",
    "        X_train, y_train, X_val, y_val,\n",
    "        n_estimators=range(50, 550, 50),\n",
    "        cv_splits=5,\n",
    "        para_grid=parameters,\n",
    "):\n",
    "    \"\"\"\n",
    "\n",
    "    :return:\n",
    "    \"\"\"\n",
    "    optimum_rf, best_N, acc_score = find_optimum_rf(X_train, y_train,\n",
    "                                                    n_estimators, cv_splits, para_grid)\n",
    "    val_pred = optimum_rf.predict(X_val)\n",
    "    val_acc = accuracy_score(y_val, val_pred)\n",
    "    print(f\"✅ The accuracy score in validation set is {val_acc}\")\n",
    "    print(\"✅ Classification report:\")\n",
    "    print(classification_report(y_val, val_pred))\n",
    "\n",
    "    return optimum_rf, val_acc, {\"n_estimators\": best_N}"
   ],
   "id": "5beff1d4bc051c9a",
   "outputs": [],
   "execution_count": 42
  },
  {
   "metadata": {
    "ExecuteTime": {
     "end_time": "2025-10-12T15:44:34.098947Z",
     "start_time": "2025-10-12T15:44:34.095463Z"
    }
   },
   "cell_type": "code",
   "source": [
    "def evaluate_test_rf(\n",
    "        rf_model, X_test, y_test\n",
    "):\n",
    "    \"\"\"\n",
    "\n",
    "    :return:\n",
    "    \"\"\"\n",
    "    y_pred = rf_model.predict(X_test)\n",
    "    acc = accuracy_score(y_test, y_pred)\n",
    "    print(f\"✅ The accuracy score in test set is {acc}\")\n",
    "    print(\"✅ Classification report:\")\n",
    "    print(classification_report(y_test, y_pred))\n",
    "\n",
    "    return acc"
   ],
   "id": "ccd87c5023e73a34",
   "outputs": [],
   "execution_count": 43
  },
  {
   "metadata": {},
   "cell_type": "markdown",
   "source": "## 3. TRAIN & TEST ON DATASET",
   "id": "2e9c50ad92556da9"
  },
  {
   "metadata": {
    "ExecuteTime": {
     "end_time": "2025-10-12T15:45:04.820446Z",
     "start_time": "2025-10-12T15:44:42.307942Z"
    }
   },
   "cell_type": "code",
   "source": [
    "rf_model, acc, best_parameters = evaluate_val_rf(X_odt_train, y_odt_train, X_odt_val, y_odt_val)\n",
    "test_acc = evaluate_test_rf(rf_model, X_odt_test, y_odt_test)"
   ],
   "id": "eb1e2f9620e0bf43",
   "outputs": [
    {
     "name": "stdout",
     "output_type": "stream",
     "text": [
      "👉 Training RF model...\n",
      "Iterator 50 give score: [0.57142857 0.53061224 0.5625     0.625      0.54166667]...\n",
      "Iterator 100 give score: [0.59183673 0.57142857 0.5625     0.6875     0.58333333]...\n",
      "Iterator 150 give score: [0.59183673 0.6122449  0.5625     0.6875     0.58333333]...\n",
      "Iterator 200 give score: [0.59183673 0.6122449  0.5625     0.66666667 0.58333333]...\n",
      "Iterator 250 give score: [0.59183673 0.6122449  0.5625     0.66666667 0.58333333]...\n",
      "Iterator 300 give score: [0.59183673 0.6122449  0.5625     0.64583333 0.58333333]...\n",
      "Iterator 350 give score: [0.59183673 0.59183673 0.5625     0.625      0.58333333]...\n",
      "Iterator 400 give score: [0.59183673 0.6122449  0.5625     0.64583333 0.58333333]...\n",
      "Iterator 450 give score: [0.59183673 0.59183673 0.5625     0.64583333 0.58333333]...\n",
      "Iterator 500 give score: [0.59183673 0.59183673 0.5625     0.64583333 0.58333333]...\n",
      "✅ Best n_estimators: 150\n",
      "✅ The accuracy score in validation set is 0.5333333333333333\n",
      "✅ Classification report:\n",
      "              precision    recall  f1-score   support\n",
      "\n",
      "           0       0.76      1.00      0.86        16\n",
      "           1       0.00      0.00      0.00         5\n",
      "           2       0.00      0.00      0.00         3\n",
      "           3       0.00      0.00      0.00         4\n",
      "           4       0.00      0.00      0.00         2\n",
      "\n",
      "    accuracy                           0.53        30\n",
      "   macro avg       0.15      0.20      0.17        30\n",
      "weighted avg       0.41      0.53      0.46        30\n",
      "\n",
      "✅ The accuracy score in test set is 0.5483870967741935\n",
      "✅ Classification report:\n",
      "              precision    recall  f1-score   support\n",
      "\n",
      "           0       0.75      0.88      0.81        17\n",
      "           1       0.20      0.17      0.18         6\n",
      "           2       0.33      0.25      0.29         4\n",
      "           3       0.00      0.00      0.00         3\n",
      "           4       0.00      0.00      0.00         1\n",
      "\n",
      "    accuracy                           0.55        31\n",
      "   macro avg       0.26      0.26      0.26        31\n",
      "weighted avg       0.49      0.55      0.52        31\n",
      "\n"
     ]
    },
    {
     "name": "stderr",
     "output_type": "stream",
     "text": [
      "/mnt/DATA/_PyLIB_LINUX/.venv/lib/python3.12/site-packages/sklearn/metrics/_classification.py:1731: UndefinedMetricWarning: Precision is ill-defined and being set to 0.0 in labels with no predicted samples. Use `zero_division` parameter to control this behavior.\n",
      "  _warn_prf(average, modifier, f\"{metric.capitalize()} is\", result.shape[0])\n",
      "/mnt/DATA/_PyLIB_LINUX/.venv/lib/python3.12/site-packages/sklearn/metrics/_classification.py:1731: UndefinedMetricWarning: Precision is ill-defined and being set to 0.0 in labels with no predicted samples. Use `zero_division` parameter to control this behavior.\n",
      "  _warn_prf(average, modifier, f\"{metric.capitalize()} is\", result.shape[0])\n",
      "/mnt/DATA/_PyLIB_LINUX/.venv/lib/python3.12/site-packages/sklearn/metrics/_classification.py:1731: UndefinedMetricWarning: Precision is ill-defined and being set to 0.0 in labels with no predicted samples. Use `zero_division` parameter to control this behavior.\n",
      "  _warn_prf(average, modifier, f\"{metric.capitalize()} is\", result.shape[0])\n",
      "/mnt/DATA/_PyLIB_LINUX/.venv/lib/python3.12/site-packages/sklearn/metrics/_classification.py:1731: UndefinedMetricWarning: Precision is ill-defined and being set to 0.0 in labels with no predicted samples. Use `zero_division` parameter to control this behavior.\n",
      "  _warn_prf(average, modifier, f\"{metric.capitalize()} is\", result.shape[0])\n",
      "/mnt/DATA/_PyLIB_LINUX/.venv/lib/python3.12/site-packages/sklearn/metrics/_classification.py:1731: UndefinedMetricWarning: Precision is ill-defined and being set to 0.0 in labels with no predicted samples. Use `zero_division` parameter to control this behavior.\n",
      "  _warn_prf(average, modifier, f\"{metric.capitalize()} is\", result.shape[0])\n",
      "/mnt/DATA/_PyLIB_LINUX/.venv/lib/python3.12/site-packages/sklearn/metrics/_classification.py:1731: UndefinedMetricWarning: Precision is ill-defined and being set to 0.0 in labels with no predicted samples. Use `zero_division` parameter to control this behavior.\n",
      "  _warn_prf(average, modifier, f\"{metric.capitalize()} is\", result.shape[0])\n"
     ]
    },
    {
     "data": {
      "text/plain": [
       "<Figure size 1000x600 with 1 Axes>"
      ],
      "image/png": "[encoded data removed]"
     },
     "metadata": {},
     "output_type": "display_data",
     "jetTransient": {
      "display_id": null
     }
    }
   ],
   "execution_count": 44
  },
  {
   "metadata": {},
   "cell_type": "code",
   "outputs": [],
   "execution_count": null,
   "source": "",
   "id": "39afa63e3aa8ce8c"
  }
 ],
 "metadata": {
  "kernelspec": {
   "display_name": "Python 3",
   "language": "python",
   "name": "python3"
  },
  "language_info": {
   "codemirror_mode": {
    "name": "ipython",
    "version": 2
   },
   "file_extension": ".py",
   "mimetype": "text/x-python",
   "name": "python",
   "nbconvert_exporter": "python",
   "pygments_lexer": "ipython2",
   "version": "2.7.6"
  }
 },
 "nbformat": 4,
 "nbformat_minor": 5
}
