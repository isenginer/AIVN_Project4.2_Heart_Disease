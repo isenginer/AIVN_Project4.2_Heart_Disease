{
 "cells": [
  {
   "metadata": {},
   "cell_type": "markdown",
   "source": [
    "# PROJECT 4.2 HEART DISEASE\n",
    "## `DATA EXPLORATION AND ANALYSIS PART 2`"
   ],
   "id": "439d7ee9dc75a141"
  },
  {
   "metadata": {},
   "cell_type": "markdown",
   "source": "This module is to apply DecisionTreeClassifier to specify the data with new feature engineering. In this module, we shall find the ratio between the features to find out the more correlation between them",
   "id": "1f6195d2e9ae3308"
  },
  {
   "cell_type": "code",
   "id": "initial_id",
   "metadata": {
    "collapsed": true,
    "ExecuteTime": {
     "end_time": "2025-10-05T09:40:50.504388Z",
     "start_time": "2025-10-05T09:40:50.502161Z"
    }
   },
   "source": [
    "import errno\n",
    "\n",
    "import numpy as np\n",
    "import pandas as pd\n",
    "import matplotlib.pyplot as plt\n",
    "import seaborn as sns\n",
    "import os\n"
   ],
   "outputs": [],
   "execution_count": 1
  },
  {
   "metadata": {
    "ExecuteTime": {
     "end_time": "2025-10-05T09:41:01.481728Z",
     "start_time": "2025-10-05T09:41:01.252082Z"
    }
   },
   "cell_type": "code",
   "source": [
    "from sklearn.tree import DecisionTreeClassifier\n",
    "from sklearn.pipeline import Pipeline"
   ],
   "id": "2d6db51ba7ce1290",
   "outputs": [],
   "execution_count": 2
  },
  {
   "metadata": {},
   "cell_type": "code",
   "outputs": [],
   "execution_count": null,
   "source": [
    "def data_loader(path):\n",
    "    \"\"\"\n",
    "    minor function to collect train, validation and test data with error check\n",
    "    :param path:\n",
    "    :return:\n",
    "    \"\"\"\n",
    "    try:\n",
    "        train_data = pd.read_csv(path + \"prp_train.csv\")\n",
    "        test_data = pd.read_csv(path + \"prp_test.csv\")\n",
    "        val_data = pd.read_csv(path + \"prp_val.csv\")\n",
    "        print(\"✅ Load data successfully\")\n",
    "    except FileNotFoundError:\n",
    "        print(\"❌ Data not found, please run data_loader first\")\n",
    "\n",
    "    return train_data, test_data, val_data"
   ],
   "id": "5425b6423c612e1"
  }
 ],
 "metadata": {
  "kernelspec": {
   "display_name": "Python 3",
   "language": "python",
   "name": "python3"
  },
  "language_info": {
   "codemirror_mode": {
    "name": "ipython",
    "version": 2
   },
   "file_extension": ".py",
   "mimetype": "text/x-python",
   "name": "python",
   "nbconvert_exporter": "python",
   "pygments_lexer": "ipython2",
   "version": "2.7.6"
  }
 },
 "nbformat": 4,
 "nbformat_minor": 5
}
