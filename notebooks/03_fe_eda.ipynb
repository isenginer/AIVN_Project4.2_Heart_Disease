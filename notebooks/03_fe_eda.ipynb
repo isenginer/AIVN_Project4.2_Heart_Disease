{
 "cells": [
  {
   "metadata": {},
   "cell_type": "markdown",
   "source": [
    "# PROJECT 4.2 HEART DISEASE\n",
    "## `DATA EXPLORATION AND ANALYSIS PART 2`"
   ],
   "id": "439d7ee9dc75a141"
  },
  {
   "metadata": {},
   "cell_type": "markdown",
   "source": "This module is to apply DecisionTreeClassifier to specify the data with new feature engineering. In this module, we shall find the ratio between the features to find out the more correlation between them",
   "id": "1f6195d2e9ae3308"
  },
  {
   "metadata": {},
   "cell_type": "markdown",
   "source": "## 1. LOAD ORIGINAL DATA",
   "id": "89e117a6f6cb7d83"
  },
  {
   "cell_type": "code",
   "id": "initial_id",
   "metadata": {
    "collapsed": true,
    "ExecuteTime": {
     "end_time": "2025-10-09T10:07:14.186486Z",
     "start_time": "2025-10-09T10:07:13.998328Z"
    }
   },
   "source": [
    "import errno\n",
    "\n",
    "import numpy as np\n",
    "import pandas as pd\n",
    "import matplotlib.pyplot as plt\n",
    "import seaborn as sns\n",
    "import os\n",
    "import joblib\n",
    "from sklearn.compose import ColumnTransformer\n",
    "from sklearn.feature_selection import mutual_info_classif\n",
    "from sklearn.impute import SimpleImputer\n",
    "from sklearn.preprocessing import StandardScaler, OneHotEncoder"
   ],
   "outputs": [],
   "execution_count": 1
  },
  {
   "metadata": {
    "ExecuteTime": {
     "end_time": "2025-10-09T10:07:14.200704Z",
     "start_time": "2025-10-09T10:07:14.191556Z"
    }
   },
   "cell_type": "code",
   "source": [
    "from sklearn.tree import DecisionTreeClassifier\n",
    "from sklearn.pipeline import Pipeline"
   ],
   "id": "2d6db51ba7ce1290",
   "outputs": [],
   "execution_count": 2
  },
  {
   "metadata": {
    "ExecuteTime": {
     "end_time": "2025-10-09T10:07:14.242381Z",
     "start_time": "2025-10-09T10:07:14.237938Z"
    }
   },
   "cell_type": "code",
   "source": [
    "def data_loader(path):\n",
    "    \"\"\"\n",
    "    minor function to collect train, validation and test data with error check\n",
    "    :param path:\n",
    "    :return:\n",
    "    \"\"\"\n",
    "    try:\n",
    "        train_data = pd.read_csv(path + \"train.csv\")\n",
    "        test_data = pd.read_csv(path + \"test.csv\")\n",
    "        val_data = pd.read_csv(path + \"val.csv\")\n",
    "        print(\"✅ Load data successfully\")\n",
    "    except FileNotFoundError:\n",
    "        print(\"❌ Data not found, please run data_loader first\")\n",
    "\n",
    "    return train_data, test_data, val_data"
   ],
   "id": "5425b6423c612e1",
   "outputs": [],
   "execution_count": 3
  },
  {
   "metadata": {
    "ExecuteTime": {
     "end_time": "2025-10-09T10:07:14.311494Z",
     "start_time": "2025-10-09T10:07:14.297053Z"
    }
   },
   "cell_type": "code",
   "source": [
    "train_data, test_data, val_data = data_loader(\"../dataset/\")\n",
    "train_data.head(10)"
   ],
   "id": "e3542d4f346c52a0",
   "outputs": [
    {
     "name": "stdout",
     "output_type": "stream",
     "text": [
      "✅ Load data successfully\n"
     ]
    },
    {
     "data": {
      "text/plain": [
       "   age  sex  cp  trestbps  chol  fbs  restecg  thalach  exang  oldpeak  slope  \\\n",
       "0   60    0   4       150   258    0        2      157      0      2.6      2   \n",
       "1   39    1   3       140   321    0        2      182      0      0.0      1   \n",
       "2   54    0   2       132   288    1        2      159      1      0.0      1   \n",
       "3   56    1   2       130   221    0        2      163      0      0.0      1   \n",
       "4   67    1   4       125   254    1        0      163      0      0.2      2   \n",
       "5   55    1   2       130   262    0        0      155      0      0.0      1   \n",
       "6   47    1   3       130   253    0        0      179      0      0.0      1   \n",
       "7   60    1   4       125   258    0        2      141      1      2.8      2   \n",
       "8   58    0   4       100   248    0        2      122      0      1.0      2   \n",
       "9   59    1   4       170   326    0        2      140      1      3.4      3   \n",
       "\n",
       "    ca  thal  target  \n",
       "0  2.0   7.0       3  \n",
       "1  0.0   3.0       0  \n",
       "2  1.0   3.0       0  \n",
       "3  0.0   7.0       0  \n",
       "4  2.0   7.0       3  \n",
       "5  0.0   3.0       0  \n",
       "6  0.0   3.0       0  \n",
       "7  1.0   7.0       1  \n",
       "8  0.0   3.0       0  \n",
       "9  0.0   7.0       2  "
      ],
      "text/html": [
       "<div>\n",
       "<style scoped>\n",
       "    .dataframe tbody tr th:only-of-type {\n",
       "        vertical-align: middle;\n",
       "    }\n",
       "\n",
       "    .dataframe tbody tr th {\n",
       "        vertical-align: top;\n",
       "    }\n",
       "\n",
       "    .dataframe thead th {\n",
       "        text-align: right;\n",
       "    }\n",
       "</style>\n",
       "<table border=\"1\" class=\"dataframe\">\n",
       "  <thead>\n",
       "    <tr style=\"text-align: right;\">\n",
       "      <th></th>\n",
       "      <th>age</th>\n",
       "      <th>sex</th>\n",
       "      <th>cp</th>\n",
       "      <th>trestbps</th>\n",
       "      <th>chol</th>\n",
       "      <th>fbs</th>\n",
       "      <th>restecg</th>\n",
       "      <th>thalach</th>\n",
       "      <th>exang</th>\n",
       "      <th>oldpeak</th>\n",
       "      <th>slope</th>\n",
       "      <th>ca</th>\n",
       "      <th>thal</th>\n",
       "      <th>target</th>\n",
       "    </tr>\n",
       "  </thead>\n",
       "  <tbody>\n",
       "    <tr>\n",
       "      <th>0</th>\n",
       "      <td>60</td>\n",
       "      <td>0</td>\n",
       "      <td>4</td>\n",
       "      <td>150</td>\n",
       "      <td>258</td>\n",
       "      <td>0</td>\n",
       "      <td>2</td>\n",
       "      <td>157</td>\n",
       "      <td>0</td>\n",
       "      <td>2.6</td>\n",
       "      <td>2</td>\n",
       "      <td>2.0</td>\n",
       "      <td>7.0</td>\n",
       "      <td>3</td>\n",
       "    </tr>\n",
       "    <tr>\n",
       "      <th>1</th>\n",
       "      <td>39</td>\n",
       "      <td>1</td>\n",
       "      <td>3</td>\n",
       "      <td>140</td>\n",
       "      <td>321</td>\n",
       "      <td>0</td>\n",
       "      <td>2</td>\n",
       "      <td>182</td>\n",
       "      <td>0</td>\n",
       "      <td>0.0</td>\n",
       "      <td>1</td>\n",
       "      <td>0.0</td>\n",
       "      <td>3.0</td>\n",
       "      <td>0</td>\n",
       "    </tr>\n",
       "    <tr>\n",
       "      <th>2</th>\n",
       "      <td>54</td>\n",
       "      <td>0</td>\n",
       "      <td>2</td>\n",
       "      <td>132</td>\n",
       "      <td>288</td>\n",
       "      <td>1</td>\n",
       "      <td>2</td>\n",
       "      <td>159</td>\n",
       "      <td>1</td>\n",
       "      <td>0.0</td>\n",
       "      <td>1</td>\n",
       "      <td>1.0</td>\n",
       "      <td>3.0</td>\n",
       "      <td>0</td>\n",
       "    </tr>\n",
       "    <tr>\n",
       "      <th>3</th>\n",
       "      <td>56</td>\n",
       "      <td>1</td>\n",
       "      <td>2</td>\n",
       "      <td>130</td>\n",
       "      <td>221</td>\n",
       "      <td>0</td>\n",
       "      <td>2</td>\n",
       "      <td>163</td>\n",
       "      <td>0</td>\n",
       "      <td>0.0</td>\n",
       "      <td>1</td>\n",
       "      <td>0.0</td>\n",
       "      <td>7.0</td>\n",
       "      <td>0</td>\n",
       "    </tr>\n",
       "    <tr>\n",
       "      <th>4</th>\n",
       "      <td>67</td>\n",
       "      <td>1</td>\n",
       "      <td>4</td>\n",
       "      <td>125</td>\n",
       "      <td>254</td>\n",
       "      <td>1</td>\n",
       "      <td>0</td>\n",
       "      <td>163</td>\n",
       "      <td>0</td>\n",
       "      <td>0.2</td>\n",
       "      <td>2</td>\n",
       "      <td>2.0</td>\n",
       "      <td>7.0</td>\n",
       "      <td>3</td>\n",
       "    </tr>\n",
       "    <tr>\n",
       "      <th>5</th>\n",
       "      <td>55</td>\n",
       "      <td>1</td>\n",
       "      <td>2</td>\n",
       "      <td>130</td>\n",
       "      <td>262</td>\n",
       "      <td>0</td>\n",
       "      <td>0</td>\n",
       "      <td>155</td>\n",
       "      <td>0</td>\n",
       "      <td>0.0</td>\n",
       "      <td>1</td>\n",
       "      <td>0.0</td>\n",
       "      <td>3.0</td>\n",
       "      <td>0</td>\n",
       "    </tr>\n",
       "    <tr>\n",
       "      <th>6</th>\n",
       "      <td>47</td>\n",
       "      <td>1</td>\n",
       "      <td>3</td>\n",
       "      <td>130</td>\n",
       "      <td>253</td>\n",
       "      <td>0</td>\n",
       "      <td>0</td>\n",
       "      <td>179</td>\n",
       "      <td>0</td>\n",
       "      <td>0.0</td>\n",
       "      <td>1</td>\n",
       "      <td>0.0</td>\n",
       "      <td>3.0</td>\n",
       "      <td>0</td>\n",
       "    </tr>\n",
       "    <tr>\n",
       "      <th>7</th>\n",
       "      <td>60</td>\n",
       "      <td>1</td>\n",
       "      <td>4</td>\n",
       "      <td>125</td>\n",
       "      <td>258</td>\n",
       "      <td>0</td>\n",
       "      <td>2</td>\n",
       "      <td>141</td>\n",
       "      <td>1</td>\n",
       "      <td>2.8</td>\n",
       "      <td>2</td>\n",
       "      <td>1.0</td>\n",
       "      <td>7.0</td>\n",
       "      <td>1</td>\n",
       "    </tr>\n",
       "    <tr>\n",
       "      <th>8</th>\n",
       "      <td>58</td>\n",
       "      <td>0</td>\n",
       "      <td>4</td>\n",
       "      <td>100</td>\n",
       "      <td>248</td>\n",
       "      <td>0</td>\n",
       "      <td>2</td>\n",
       "      <td>122</td>\n",
       "      <td>0</td>\n",
       "      <td>1.0</td>\n",
       "      <td>2</td>\n",
       "      <td>0.0</td>\n",
       "      <td>3.0</td>\n",
       "      <td>0</td>\n",
       "    </tr>\n",
       "    <tr>\n",
       "      <th>9</th>\n",
       "      <td>59</td>\n",
       "      <td>1</td>\n",
       "      <td>4</td>\n",
       "      <td>170</td>\n",
       "      <td>326</td>\n",
       "      <td>0</td>\n",
       "      <td>2</td>\n",
       "      <td>140</td>\n",
       "      <td>1</td>\n",
       "      <td>3.4</td>\n",
       "      <td>3</td>\n",
       "      <td>0.0</td>\n",
       "      <td>7.0</td>\n",
       "      <td>2</td>\n",
       "    </tr>\n",
       "  </tbody>\n",
       "</table>\n",
       "</div>"
      ]
     },
     "execution_count": 4,
     "metadata": {},
     "output_type": "execute_result"
    }
   ],
   "execution_count": 4
  },
  {
   "metadata": {
    "ExecuteTime": {
     "end_time": "2025-10-09T10:07:14.465703Z",
     "start_time": "2025-10-09T10:07:14.463192Z"
    }
   },
   "cell_type": "code",
   "source": [
    "numeric_cols = [\"age\",\"trestbps\",\"chol\",\"thalach\",\"oldpeak\", \"chol_per_age\", \"bps_per_age\", \"hr_ratio\"]\n",
    "categorical_cols = [\"sex\",\"cp\",\"fbs\",\"restecg\",\"exang\",\"slope\",\"ca\",\"thal\", \"age_bin\"]"
   ],
   "id": "78ed742cbef3bc96",
   "outputs": [],
   "execution_count": 5
  },
  {
   "metadata": {},
   "cell_type": "markdown",
   "source": "## 2. PERFORM FEATURE ENGINEERING",
   "id": "56862ffaf1393abb"
  },
  {
   "metadata": {
    "ExecuteTime": {
     "end_time": "2025-10-09T10:07:14.574257Z",
     "start_time": "2025-10-09T10:07:14.569943Z"
    }
   },
   "cell_type": "code",
   "source": [
    "X_train = train_data.drop(\"target\", axis=1)\n",
    "y_train = train_data[\"target\"]\n",
    "X_test = test_data.drop(\"target\", axis=1)\n",
    "y_test = test_data[\"target\"]\n",
    "X_val = val_data.drop(\"target\", axis=1)\n",
    "y_val = val_data[\"target\"]\n",
    "\n",
    "feature_cols = X_train.columns"
   ],
   "id": "5e5017107213f3b5",
   "outputs": [],
   "execution_count": 6
  },
  {
   "metadata": {},
   "cell_type": "markdown",
   "source": "The preprocessing in this module is using SimpleImputer & OneHotEncorder",
   "id": "3fef467082f057d7"
  },
  {
   "metadata": {
    "ExecuteTime": {
     "end_time": "2025-10-09T10:07:14.658645Z",
     "start_time": "2025-10-09T10:07:14.620726Z"
    }
   },
   "cell_type": "code",
   "source": [
    "from src.data.data_engineering import AddNewFeatures\n",
    "\n",
    "# Create a pipeline to transform the train, val and test data through 02 transformer: AddNewFeatures & ColumnTransformer\n",
    "# ColumnTransformer = SimpleImputer, StandardScaler & OneHotEncoder\n",
    "\n",
    "numerical_ppl = Pipeline(\n",
    "    [(\"imputer\", SimpleImputer(strategy=\"median\")),\n",
    "      (\"sc\", StandardScaler())]\n",
    ")\n",
    "categorical_ppl = Pipeline(\n",
    "    [(\"imputer\", SimpleImputer(strategy=\"most_frequent\")),\n",
    "     (\"oh\", OneHotEncoder(handle_unknown=\"ignore\", sparse_output=False))]\n",
    ")\n",
    "\n",
    "preprocessing = ColumnTransformer([\n",
    "    (\"numerical\", numerical_ppl, numeric_cols),\n",
    "    (\"categorical\", categorical_ppl, categorical_cols)],\n",
    "     verbose_feature_names_out = False).set_output(transform=\"pandas\")\n",
    "\n",
    "fe_pipeline = Pipeline([\n",
    "    (\"add\", AddNewFeatures()),\n",
    "    (\"preprocessing\", preprocessing),\n",
    "])\n",
    "\n",
    "X_train_fe = fe_pipeline.fit_transform(X_train, y_train) # In this situation, y_train is not used\n",
    "X_val_fe = fe_pipeline.transform(X_val)\n",
    "X_test_fe = fe_pipeline.transform(X_test)\n",
    "X_train_fe.head(10)"
   ],
   "id": "94d9cc178c2d244e",
   "outputs": [
    {
     "data": {
      "text/plain": [
       "        age  trestbps      chol   thalach   oldpeak  chol_per_age  \\\n",
       "0  0.594945  1.020911  0.169014  0.307680  1.320132     -0.313670   \n",
       "1 -1.711319  0.463338  1.327117  1.411752 -0.900796      3.088780   \n",
       "2 -0.063987  0.017280  0.720492  0.396006 -0.900796      0.580777   \n",
       "3  0.155657 -0.094234 -0.511143  0.572657 -0.900796     -0.619719   \n",
       "4  1.363700 -0.373021  0.095483  0.572657 -0.729955     -0.754219   \n",
       "5  0.045835 -0.094234  0.242544  0.219354 -0.900796      0.087651   \n",
       "6 -0.832742 -0.094234  0.077101  1.279263 -0.900796      0.623750   \n",
       "7  0.594945 -0.373021  0.169014 -0.398926  1.490973     -0.313670   \n",
       "8  0.375301 -1.766952 -0.014812 -1.238020 -0.046593     -0.334564   \n",
       "9  0.485123  2.136056  1.419030 -0.443089  2.003495      0.747049   \n",
       "\n",
       "   bps_per_age  hr_ratio  sex_0.0  sex_1.0  ...  ca_2.0  ca_3.0  thal_3.0  \\\n",
       "0    -0.420254 -0.122544      1.0      0.0  ...     1.0     0.0       0.0   \n",
       "1     0.810669  0.138468      0.0      1.0  ...     0.0     0.0       1.0   \n",
       "2     0.572075  0.241604      1.0      0.0  ...     0.0     0.0       1.0   \n",
       "3    -0.463229 -0.745648      0.0      1.0  ...     0.0     0.0       0.0   \n",
       "4     0.250154 -0.306841      0.0      1.0  ...     1.0     0.0       0.0   \n",
       "5     0.214452 -0.020652      0.0      1.0  ...     0.0     0.0       1.0   \n",
       "6     0.065692 -0.620848      0.0      1.0  ...     0.0     0.0       1.0   \n",
       "7     0.318914  0.281629      0.0      1.0  ...     0.0     0.0       0.0   \n",
       "8     1.212791  0.721619      1.0      0.0  ...     0.0     0.0       1.0   \n",
       "9     0.004439  1.362713      0.0      1.0  ...     0.0     0.0       0.0   \n",
       "\n",
       "   thal_6.0  thal_7.0  age_bin_0.0  age_bin_1.0  age_bin_2.0  age_bin_3.0  \\\n",
       "0       0.0       1.0          0.0          0.0          0.0          1.0   \n",
       "1       0.0       0.0          0.0          1.0          0.0          0.0   \n",
       "2       0.0       0.0          0.0          0.0          1.0          0.0   \n",
       "3       0.0       1.0          0.0          0.0          1.0          0.0   \n",
       "4       0.0       1.0          0.0          0.0          0.0          1.0   \n",
       "5       0.0       0.0          0.0          0.0          1.0          0.0   \n",
       "6       0.0       0.0          0.0          1.0          0.0          0.0   \n",
       "7       0.0       1.0          0.0          0.0          0.0          1.0   \n",
       "8       0.0       0.0          0.0          0.0          0.0          1.0   \n",
       "9       0.0       1.0          0.0          0.0          0.0          1.0   \n",
       "\n",
       "   age_bin_4.0  \n",
       "0          0.0  \n",
       "1          0.0  \n",
       "2          0.0  \n",
       "3          0.0  \n",
       "4          0.0  \n",
       "5          0.0  \n",
       "6          0.0  \n",
       "7          0.0  \n",
       "8          0.0  \n",
       "9          0.0  \n",
       "\n",
       "[10 rows x 36 columns]"
      ],
      "text/html": [
       "<div>\n",
       "<style scoped>\n",
       "    .dataframe tbody tr th:only-of-type {\n",
       "        vertical-align: middle;\n",
       "    }\n",
       "\n",
       "    .dataframe tbody tr th {\n",
       "        vertical-align: top;\n",
       "    }\n",
       "\n",
       "    .dataframe thead th {\n",
       "        text-align: right;\n",
       "    }\n",
       "</style>\n",
       "<table border=\"1\" class=\"dataframe\">\n",
       "  <thead>\n",
       "    <tr style=\"text-align: right;\">\n",
       "      <th></th>\n",
       "      <th>age</th>\n",
       "      <th>trestbps</th>\n",
       "      <th>chol</th>\n",
       "      <th>thalach</th>\n",
       "      <th>oldpeak</th>\n",
       "      <th>chol_per_age</th>\n",
       "      <th>bps_per_age</th>\n",
       "      <th>hr_ratio</th>\n",
       "      <th>sex_0.0</th>\n",
       "      <th>sex_1.0</th>\n",
       "      <th>...</th>\n",
       "      <th>ca_2.0</th>\n",
       "      <th>ca_3.0</th>\n",
       "      <th>thal_3.0</th>\n",
       "      <th>thal_6.0</th>\n",
       "      <th>thal_7.0</th>\n",
       "      <th>age_bin_0.0</th>\n",
       "      <th>age_bin_1.0</th>\n",
       "      <th>age_bin_2.0</th>\n",
       "      <th>age_bin_3.0</th>\n",
       "      <th>age_bin_4.0</th>\n",
       "    </tr>\n",
       "  </thead>\n",
       "  <tbody>\n",
       "    <tr>\n",
       "      <th>0</th>\n",
       "      <td>0.594945</td>\n",
       "      <td>1.020911</td>\n",
       "      <td>0.169014</td>\n",
       "      <td>0.307680</td>\n",
       "      <td>1.320132</td>\n",
       "      <td>-0.313670</td>\n",
       "      <td>-0.420254</td>\n",
       "      <td>-0.122544</td>\n",
       "      <td>1.0</td>\n",
       "      <td>0.0</td>\n",
       "      <td>...</td>\n",
       "      <td>1.0</td>\n",
       "      <td>0.0</td>\n",
       "      <td>0.0</td>\n",
       "      <td>0.0</td>\n",
       "      <td>1.0</td>\n",
       "      <td>0.0</td>\n",
       "      <td>0.0</td>\n",
       "      <td>0.0</td>\n",
       "      <td>1.0</td>\n",
       "      <td>0.0</td>\n",
       "    </tr>\n",
       "    <tr>\n",
       "      <th>1</th>\n",
       "      <td>-1.711319</td>\n",
       "      <td>0.463338</td>\n",
       "      <td>1.327117</td>\n",
       "      <td>1.411752</td>\n",
       "      <td>-0.900796</td>\n",
       "      <td>3.088780</td>\n",
       "      <td>0.810669</td>\n",
       "      <td>0.138468</td>\n",
       "      <td>0.0</td>\n",
       "      <td>1.0</td>\n",
       "      <td>...</td>\n",
       "      <td>0.0</td>\n",
       "      <td>0.0</td>\n",
       "      <td>1.0</td>\n",
       "      <td>0.0</td>\n",
       "      <td>0.0</td>\n",
       "      <td>0.0</td>\n",
       "      <td>1.0</td>\n",
       "      <td>0.0</td>\n",
       "      <td>0.0</td>\n",
       "      <td>0.0</td>\n",
       "    </tr>\n",
       "    <tr>\n",
       "      <th>2</th>\n",
       "      <td>-0.063987</td>\n",
       "      <td>0.017280</td>\n",
       "      <td>0.720492</td>\n",
       "      <td>0.396006</td>\n",
       "      <td>-0.900796</td>\n",
       "      <td>0.580777</td>\n",
       "      <td>0.572075</td>\n",
       "      <td>0.241604</td>\n",
       "      <td>1.0</td>\n",
       "      <td>0.0</td>\n",
       "      <td>...</td>\n",
       "      <td>0.0</td>\n",
       "      <td>0.0</td>\n",
       "      <td>1.0</td>\n",
       "      <td>0.0</td>\n",
       "      <td>0.0</td>\n",
       "      <td>0.0</td>\n",
       "      <td>0.0</td>\n",
       "      <td>1.0</td>\n",
       "      <td>0.0</td>\n",
       "      <td>0.0</td>\n",
       "    </tr>\n",
       "    <tr>\n",
       "      <th>3</th>\n",
       "      <td>0.155657</td>\n",
       "      <td>-0.094234</td>\n",
       "      <td>-0.511143</td>\n",
       "      <td>0.572657</td>\n",
       "      <td>-0.900796</td>\n",
       "      <td>-0.619719</td>\n",
       "      <td>-0.463229</td>\n",
       "      <td>-0.745648</td>\n",
       "      <td>0.0</td>\n",
       "      <td>1.0</td>\n",
       "      <td>...</td>\n",
       "      <td>0.0</td>\n",
       "      <td>0.0</td>\n",
       "      <td>0.0</td>\n",
       "      <td>0.0</td>\n",
       "      <td>1.0</td>\n",
       "      <td>0.0</td>\n",
       "      <td>0.0</td>\n",
       "      <td>1.0</td>\n",
       "      <td>0.0</td>\n",
       "      <td>0.0</td>\n",
       "    </tr>\n",
       "    <tr>\n",
       "      <th>4</th>\n",
       "      <td>1.363700</td>\n",
       "      <td>-0.373021</td>\n",
       "      <td>0.095483</td>\n",
       "      <td>0.572657</td>\n",
       "      <td>-0.729955</td>\n",
       "      <td>-0.754219</td>\n",
       "      <td>0.250154</td>\n",
       "      <td>-0.306841</td>\n",
       "      <td>0.0</td>\n",
       "      <td>1.0</td>\n",
       "      <td>...</td>\n",
       "      <td>1.0</td>\n",
       "      <td>0.0</td>\n",
       "      <td>0.0</td>\n",
       "      <td>0.0</td>\n",
       "      <td>1.0</td>\n",
       "      <td>0.0</td>\n",
       "      <td>0.0</td>\n",
       "      <td>0.0</td>\n",
       "      <td>1.0</td>\n",
       "      <td>0.0</td>\n",
       "    </tr>\n",
       "    <tr>\n",
       "      <th>5</th>\n",
       "      <td>0.045835</td>\n",
       "      <td>-0.094234</td>\n",
       "      <td>0.242544</td>\n",
       "      <td>0.219354</td>\n",
       "      <td>-0.900796</td>\n",
       "      <td>0.087651</td>\n",
       "      <td>0.214452</td>\n",
       "      <td>-0.020652</td>\n",
       "      <td>0.0</td>\n",
       "      <td>1.0</td>\n",
       "      <td>...</td>\n",
       "      <td>0.0</td>\n",
       "      <td>0.0</td>\n",
       "      <td>1.0</td>\n",
       "      <td>0.0</td>\n",
       "      <td>0.0</td>\n",
       "      <td>0.0</td>\n",
       "      <td>0.0</td>\n",
       "      <td>1.0</td>\n",
       "      <td>0.0</td>\n",
       "      <td>0.0</td>\n",
       "    </tr>\n",
       "    <tr>\n",
       "      <th>6</th>\n",
       "      <td>-0.832742</td>\n",
       "      <td>-0.094234</td>\n",
       "      <td>0.077101</td>\n",
       "      <td>1.279263</td>\n",
       "      <td>-0.900796</td>\n",
       "      <td>0.623750</td>\n",
       "      <td>0.065692</td>\n",
       "      <td>-0.620848</td>\n",
       "      <td>0.0</td>\n",
       "      <td>1.0</td>\n",
       "      <td>...</td>\n",
       "      <td>0.0</td>\n",
       "      <td>0.0</td>\n",
       "      <td>1.0</td>\n",
       "      <td>0.0</td>\n",
       "      <td>0.0</td>\n",
       "      <td>0.0</td>\n",
       "      <td>1.0</td>\n",
       "      <td>0.0</td>\n",
       "      <td>0.0</td>\n",
       "      <td>0.0</td>\n",
       "    </tr>\n",
       "    <tr>\n",
       "      <th>7</th>\n",
       "      <td>0.594945</td>\n",
       "      <td>-0.373021</td>\n",
       "      <td>0.169014</td>\n",
       "      <td>-0.398926</td>\n",
       "      <td>1.490973</td>\n",
       "      <td>-0.313670</td>\n",
       "      <td>0.318914</td>\n",
       "      <td>0.281629</td>\n",
       "      <td>0.0</td>\n",
       "      <td>1.0</td>\n",
       "      <td>...</td>\n",
       "      <td>0.0</td>\n",
       "      <td>0.0</td>\n",
       "      <td>0.0</td>\n",
       "      <td>0.0</td>\n",
       "      <td>1.0</td>\n",
       "      <td>0.0</td>\n",
       "      <td>0.0</td>\n",
       "      <td>0.0</td>\n",
       "      <td>1.0</td>\n",
       "      <td>0.0</td>\n",
       "    </tr>\n",
       "    <tr>\n",
       "      <th>8</th>\n",
       "      <td>0.375301</td>\n",
       "      <td>-1.766952</td>\n",
       "      <td>-0.014812</td>\n",
       "      <td>-1.238020</td>\n",
       "      <td>-0.046593</td>\n",
       "      <td>-0.334564</td>\n",
       "      <td>1.212791</td>\n",
       "      <td>0.721619</td>\n",
       "      <td>1.0</td>\n",
       "      <td>0.0</td>\n",
       "      <td>...</td>\n",
       "      <td>0.0</td>\n",
       "      <td>0.0</td>\n",
       "      <td>1.0</td>\n",
       "      <td>0.0</td>\n",
       "      <td>0.0</td>\n",
       "      <td>0.0</td>\n",
       "      <td>0.0</td>\n",
       "      <td>0.0</td>\n",
       "      <td>1.0</td>\n",
       "      <td>0.0</td>\n",
       "    </tr>\n",
       "    <tr>\n",
       "      <th>9</th>\n",
       "      <td>0.485123</td>\n",
       "      <td>2.136056</td>\n",
       "      <td>1.419030</td>\n",
       "      <td>-0.443089</td>\n",
       "      <td>2.003495</td>\n",
       "      <td>0.747049</td>\n",
       "      <td>0.004439</td>\n",
       "      <td>1.362713</td>\n",
       "      <td>0.0</td>\n",
       "      <td>1.0</td>\n",
       "      <td>...</td>\n",
       "      <td>0.0</td>\n",
       "      <td>0.0</td>\n",
       "      <td>0.0</td>\n",
       "      <td>0.0</td>\n",
       "      <td>1.0</td>\n",
       "      <td>0.0</td>\n",
       "      <td>0.0</td>\n",
       "      <td>0.0</td>\n",
       "      <td>1.0</td>\n",
       "      <td>0.0</td>\n",
       "    </tr>\n",
       "  </tbody>\n",
       "</table>\n",
       "<p>10 rows × 36 columns</p>\n",
       "</div>"
      ]
     },
     "execution_count": 7,
     "metadata": {},
     "output_type": "execute_result"
    }
   ],
   "execution_count": 7
  },
  {
   "metadata": {},
   "cell_type": "markdown",
   "source": "### THE STEPS BELOW ARE JUST FOR FINDING THE MUTUAL INFORMATION",
   "id": "6b2992f548fb334"
  },
  {
   "metadata": {
    "ExecuteTime": {
     "end_time": "2025-10-09T10:07:14.736438Z",
     "start_time": "2025-10-09T10:07:14.729925Z"
    }
   },
   "cell_type": "code",
   "source": [
    "print(fe_pipeline.named_steps[\"preprocessing\"].named_transformers_[\"categorical\"].named_steps[\"oh\"])\n",
    "ohe = fe_pipeline.named_steps[\"preprocessing\"].named_transformers_[\"categorical\"].named_steps[\"oh\"]\n",
    "print(ohe.get_feature_names_out(categorical_cols))\n",
    "print(\"---------------------------------------------------\")\n",
    "print(preprocessing.named_transformers_)"
   ],
   "id": "fec8905a583572b9",
   "outputs": [
    {
     "name": "stdout",
     "output_type": "stream",
     "text": [
      "OneHotEncoder(handle_unknown='ignore', sparse_output=False)\n",
      "['sex_0.0' 'sex_1.0' 'cp_1.0' 'cp_2.0' 'cp_3.0' 'cp_4.0' 'fbs_0.0'\n",
      " 'fbs_1.0' 'restecg_0.0' 'restecg_1.0' 'restecg_2.0' 'exang_0.0'\n",
      " 'exang_1.0' 'slope_1.0' 'slope_2.0' 'slope_3.0' 'ca_0.0' 'ca_1.0'\n",
      " 'ca_2.0' 'ca_3.0' 'thal_3.0' 'thal_6.0' 'thal_7.0' 'age_bin_0.0'\n",
      " 'age_bin_1.0' 'age_bin_2.0' 'age_bin_3.0' 'age_bin_4.0']\n",
      "---------------------------------------------------\n",
      "{'numerical': Pipeline(steps=[('imputer', SimpleImputer(strategy='median')),\n",
      "                ('sc', StandardScaler())]), 'categorical': Pipeline(steps=[('imputer', SimpleImputer(strategy='most_frequent')),\n",
      "                ('oh',\n",
      "                 OneHotEncoder(handle_unknown='ignore', sparse_output=False))])}\n"
     ]
    }
   ],
   "execution_count": 8
  },
  {
   "metadata": {
    "ExecuteTime": {
     "end_time": "2025-10-09T10:07:14.845169Z",
     "start_time": "2025-10-09T10:07:14.842804Z"
    }
   },
   "cell_type": "code",
   "source": [
    "# This function to export the feature names after processing the pipelines\n",
    "# Feature names to be exported are categorical names\n",
    "# ohe is the discrete (rời rạc) features to setup in mutual classif function\n",
    "ohe = fe_pipeline.named_steps[\"preprocessing\"].named_transformers_[\"categorical\"].named_steps[\"oh\"]\n",
    "cat_names = list(ohe.get_feature_names_out(categorical_cols))\n",
    "print(cat_names)"
   ],
   "id": "df02693f9acfc3cc",
   "outputs": [
    {
     "name": "stdout",
     "output_type": "stream",
     "text": [
      "['sex_0.0', 'sex_1.0', 'cp_1.0', 'cp_2.0', 'cp_3.0', 'cp_4.0', 'fbs_0.0', 'fbs_1.0', 'restecg_0.0', 'restecg_1.0', 'restecg_2.0', 'exang_0.0', 'exang_1.0', 'slope_1.0', 'slope_2.0', 'slope_3.0', 'ca_0.0', 'ca_1.0', 'ca_2.0', 'ca_3.0', 'thal_3.0', 'thal_6.0', 'thal_7.0', 'age_bin_0.0', 'age_bin_1.0', 'age_bin_2.0', 'age_bin_3.0', 'age_bin_4.0']\n"
     ]
    }
   ],
   "execution_count": 9
  },
  {
   "metadata": {
    "ExecuteTime": {
     "end_time": "2025-10-09T10:07:14.895764Z",
     "start_time": "2025-10-09T10:07:14.891781Z"
    }
   },
   "cell_type": "code",
   "source": [
    "# nz_cols xác định số lượng non-zero cols trong features, trong trường hợp database lần này không có nz cols\n",
    "nz_cols = X_train_fe.columns[X_train_fe.nunique(dropna=False) > 1]\n",
    "print(X_train_fe.columns, \"\\n\",\n",
    "      len(X_train_fe.columns))\n",
    "print(\"========================\")\n",
    "print(nz_cols, \"\\n\",\n",
    "      len(nz_cols))"
   ],
   "id": "ca0938f7dcee0a2a",
   "outputs": [
    {
     "name": "stdout",
     "output_type": "stream",
     "text": [
      "Index(['age', 'trestbps', 'chol', 'thalach', 'oldpeak', 'chol_per_age',\n",
      "       'bps_per_age', 'hr_ratio', 'sex_0.0', 'sex_1.0', 'cp_1.0', 'cp_2.0',\n",
      "       'cp_3.0', 'cp_4.0', 'fbs_0.0', 'fbs_1.0', 'restecg_0.0', 'restecg_1.0',\n",
      "       'restecg_2.0', 'exang_0.0', 'exang_1.0', 'slope_1.0', 'slope_2.0',\n",
      "       'slope_3.0', 'ca_0.0', 'ca_1.0', 'ca_2.0', 'ca_3.0', 'thal_3.0',\n",
      "       'thal_6.0', 'thal_7.0', 'age_bin_0.0', 'age_bin_1.0', 'age_bin_2.0',\n",
      "       'age_bin_3.0', 'age_bin_4.0'],\n",
      "      dtype='object') \n",
      " 36\n",
      "========================\n",
      "Index(['age', 'trestbps', 'chol', 'thalach', 'oldpeak', 'chol_per_age',\n",
      "       'bps_per_age', 'hr_ratio', 'sex_0.0', 'sex_1.0', 'cp_1.0', 'cp_2.0',\n",
      "       'cp_3.0', 'cp_4.0', 'fbs_0.0', 'fbs_1.0', 'restecg_0.0', 'restecg_1.0',\n",
      "       'restecg_2.0', 'exang_0.0', 'exang_1.0', 'slope_1.0', 'slope_2.0',\n",
      "       'slope_3.0', 'ca_0.0', 'ca_1.0', 'ca_2.0', 'ca_3.0', 'thal_3.0',\n",
      "       'thal_6.0', 'thal_7.0', 'age_bin_0.0', 'age_bin_1.0', 'age_bin_2.0',\n",
      "       'age_bin_3.0', 'age_bin_4.0'],\n",
      "      dtype='object') \n",
      " 36\n"
     ]
    }
   ],
   "execution_count": 10
  },
  {
   "metadata": {},
   "cell_type": "markdown",
   "source": [
    "#### Guidelines about mutual_info_classif\n",
    "\n",
    "mi_scores = mutual_info_classif(\n",
    "\n",
    "    X,                    # DataFrame hoặc array features\n",
    "\n",
    "    y,                    # Target (phân loại)\n",
    "\n",
    "    discrete_features='auto',  # Chỉ định feature nào là rời rạc\n",
    "\n",
    "    n_neighbors=3,        # Số neighbors cho ước lượng (mặc định=3)\n",
    "\n",
    "    random_state=42       # Để kết quả ổn định\n",
    ")"
   ],
   "id": "533516472cc38ee6"
  },
  {
   "metadata": {
    "ExecuteTime": {
     "end_time": "2025-10-09T10:07:14.943500Z",
     "start_time": "2025-10-09T10:07:14.941120Z"
    }
   },
   "cell_type": "code",
   "source": [
    "\n",
    "discrete_features = np.array([c in cat_names for c in X_train_fe.columns], dtype=\"bool\")"
   ],
   "id": "392e65b13e48acb2",
   "outputs": [],
   "execution_count": 11
  },
  {
   "metadata": {
    "ExecuteTime": {
     "end_time": "2025-10-09T10:07:15.031414Z",
     "start_time": "2025-10-09T10:07:14.992289Z"
    }
   },
   "cell_type": "code",
   "source": [
    "mi = mutual_info_classif(\n",
    "    X_train_fe.values,\n",
    "    y_train.values,\n",
    "    discrete_features=discrete_features,\n",
    "    random_state=42\n",
    ")\n",
    "mi_series = pd.Series(\n",
    "    mi, index=X_train_fe.columns\n",
    ").sort_values(ascending=False)\n",
    "\n",
    "print(mi)\n",
    "print(\"----------\")\n",
    "mi_series.head(10)"
   ],
   "id": "2c883bc99e719277",
   "outputs": [
    {
     "name": "stdout",
     "output_type": "stream",
     "text": [
      "[0.         0.         0.08227398 0.10242403 0.09231814 0.\n",
      " 0.         0.07408869 0.05047076 0.05047076 0.01309531 0.04544598\n",
      " 0.03688892 0.13183166 0.0124923  0.0124923  0.021472   0.01107542\n",
      " 0.01836742 0.10051104 0.10051104 0.1023772  0.07762578 0.00958782\n",
      " 0.13359028 0.03547993 0.04329893 0.06142177 0.15766677 0.01986047\n",
      " 0.13188707 0.01042711 0.02274073 0.01125677 0.03841968 0.01604152]\n",
      "----------\n"
     ]
    },
    {
     "data": {
      "text/plain": [
       "thal_3.0     0.157667\n",
       "ca_0.0       0.133590\n",
       "thal_7.0     0.131887\n",
       "cp_4.0       0.131832\n",
       "thalach      0.102424\n",
       "slope_1.0    0.102377\n",
       "exang_0.0    0.100511\n",
       "exang_1.0    0.100511\n",
       "oldpeak      0.092318\n",
       "chol         0.082274\n",
       "dtype: float64"
      ]
     },
     "execution_count": 12,
     "metadata": {},
     "output_type": "execute_result"
    }
   ],
   "execution_count": 12
  },
  {
   "metadata": {
    "ExecuteTime": {
     "end_time": "2025-10-09T10:07:15.290215Z",
     "start_time": "2025-10-09T10:07:15.111150Z"
    }
   },
   "cell_type": "code",
   "source": [
    "N = min(20, len(mi_series))\n",
    "topN = mi_series.head(N).iloc[::-1]\n",
    "# plt.figure(figsize=(10, max(6, N)))\n",
    "plt.barh(topN.index, topN.values)"
   ],
   "id": "fabbe6e6c2a28505",
   "outputs": [
    {
     "data": {
      "text/plain": [
       "<BarContainer object of 20 artists>"
      ]
     },
     "execution_count": 13,
     "metadata": {},
     "output_type": "execute_result"
    },
    {
     "data": {
      "text/plain": [
       "<Figure size 640x480 with 1 Axes>"
      ],
      "image/png": "[encoded data removed]"
     },
     "metadata": {},
     "output_type": "display_data",
     "jetTransient": {
      "display_id": null
     }
    }
   ],
   "execution_count": 13
  },
  {
   "metadata": {},
   "cell_type": "markdown",
   "source": "## 3. FE DATA AND DECISION TREE",
   "id": "f325f09d769fd9ac"
  },
  {
   "metadata": {
    "ExecuteTime": {
     "end_time": "2025-10-09T10:07:15.366309Z",
     "start_time": "2025-10-09T10:07:15.360395Z"
    }
   },
   "cell_type": "code",
   "source": [
    "dt_classifier = DecisionTreeClassifier(random_state=42)\n",
    "important_fe_features = dt_classifier.fit(X_train_fe, y_train).feature_importances_\n",
    "important_fe_data = pd.Series(important_fe_features, index=X_train_fe.columns)\n",
    "important_fe_features_sorted = important_fe_data.sort_values(ascending=False)"
   ],
   "id": "801adacadadc1be2",
   "outputs": [],
   "execution_count": 14
  },
  {
   "metadata": {
    "ExecuteTime": {
     "end_time": "2025-10-09T10:07:35.369181Z",
     "start_time": "2025-10-09T10:07:35.268532Z"
    }
   },
   "cell_type": "code",
   "source": [
    "from src.data.data_visualization import bar_charts\n",
    "bar_charts(important_fe_features_sorted, k=15)"
   ],
   "id": "74a5f28139899994",
   "outputs": [
    {
     "data": {
      "text/plain": [
       "<Figure size 1200x800 with 1 Axes>"
      ],
      "image/png": "[encoded data removed]"
     },
     "metadata": {},
     "output_type": "display_data",
     "jetTransient": {
      "display_id": null
     }
    }
   ],
   "execution_count": 16
  },
  {
   "metadata": {},
   "cell_type": "code",
   "outputs": [],
   "execution_count": null,
   "source": "",
   "id": "2fe39c796cc901bf"
  }
 ],
 "metadata": {
  "kernelspec": {
   "display_name": "Python 3",
   "language": "python",
   "name": "python3"
  },
  "language_info": {
   "codemirror_mode": {
    "name": "ipython",
    "version": 2
   },
   "file_extension": ".py",
   "mimetype": "text/x-python",
   "name": "python",
   "nbconvert_exporter": "python",
   "pygments_lexer": "ipython2",
   "version": "2.7.6"
  }
 },
 "nbformat": 4,
 "nbformat_minor": 5
}
